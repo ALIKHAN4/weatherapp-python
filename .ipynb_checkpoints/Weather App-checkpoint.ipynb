{
 "cells": [
  {
   "cell_type": "markdown",
   "id": "ee9ccfb8",
   "metadata": {},
   "source": [
    "# Weather App"
   ]
  },
  {
   "cell_type": "code",
   "execution_count": 16,
   "id": "6de1d97f",
   "metadata": {},
   "outputs": [],
   "source": [
    "weather = weather_data.json()['weather'][0]['main']\n",
    "temp = weather_data.json()['main']['temp']"
   ]
  },
  {
   "cell_type": "code",
   "execution_count": null,
   "id": "79ae5730",
   "metadata": {},
   "outputs": [],
   "source": []
  },
  {
   "cell_type": "raw",
   "id": "4c988aff",
   "metadata": {},
   "source": []
  },
  {
   "cell_type": "code",
   "execution_count": null,
   "id": "ec283b75",
   "metadata": {},
   "outputs": [],
   "source": []
  },
  {
   "cell_type": "raw",
   "id": "b91024bb",
   "metadata": {},
   "source": []
  },
  {
   "cell_type": "code",
   "execution_count": 17,
   "id": "0c1d52f2",
   "metadata": {},
   "outputs": [
    {
     "name": "stdout",
     "output_type": "stream",
     "text": [
      "Haze 85.82\n"
     ]
    }
   ],
   "source": [
    "print(weather, temp)"
   ]
  },
  {
   "cell_type": "code",
   "execution_count": null,
   "id": "dcf246f6",
   "metadata": {},
   "outputs": [],
   "source": []
  },
  {
   "cell_type": "code",
   "execution_count": 99,
   "id": "1ff802e3",
   "metadata": {
    "scrolled": true
   },
   "outputs": [
    {
     "name": "stdout",
     "output_type": "stream",
     "text": [
      "Enter city name: karachi\n",
      "\n",
      "        Temperature: 91.22\n",
      "        Humidity: 62\n",
      "        WindSpeed: 21.85\n",
      "        Weather Condition: Haze\n",
      "        \n",
      "Do you want to know about more cities, Write Yes or No! no\n",
      "Do you want to know the forcasting condtion of the cities? yes\n",
      "['Karachi']\n",
      "Which city's information you want to know from the list? karachi\n",
      "\n",
      "                        Temperature: 91.22\n",
      "                        Humidity: 62\n",
      "                        WindSpeed: 21.85\n",
      "                        Weather Condition: Haze\n",
      "                        \n",
      "                    \n",
      "Do you want to know further cities forcasted conditions? no\n"
     ]
    },
    {
     "data": {
      "text/html": [
       "<div>\n",
       "<style scoped>\n",
       "    .dataframe tbody tr th:only-of-type {\n",
       "        vertical-align: middle;\n",
       "    }\n",
       "\n",
       "    .dataframe tbody tr th {\n",
       "        vertical-align: top;\n",
       "    }\n",
       "\n",
       "    .dataframe thead th {\n",
       "        text-align: right;\n",
       "    }\n",
       "</style>\n",
       "<table border=\"1\" class=\"dataframe\">\n",
       "  <thead>\n",
       "    <tr style=\"text-align: right;\">\n",
       "      <th></th>\n",
       "      <th>Karachi</th>\n",
       "      <th>Karachi Forcasted</th>\n",
       "    </tr>\n",
       "  </thead>\n",
       "  <tbody>\n",
       "    <tr>\n",
       "      <th>0</th>\n",
       "      <td>91.22</td>\n",
       "      <td>91.22</td>\n",
       "    </tr>\n",
       "    <tr>\n",
       "      <th>1</th>\n",
       "      <td>62</td>\n",
       "      <td>62</td>\n",
       "    </tr>\n",
       "    <tr>\n",
       "      <th>2</th>\n",
       "      <td>21.85</td>\n",
       "      <td>21.85</td>\n",
       "    </tr>\n",
       "    <tr>\n",
       "      <th>3</th>\n",
       "      <td>Haze</td>\n",
       "      <td>Haze</td>\n",
       "    </tr>\n",
       "  </tbody>\n",
       "</table>\n",
       "</div>"
      ],
      "text/plain": [
       "  Karachi Karachi Forcasted\n",
       "0   91.22             91.22\n",
       "1      62                62\n",
       "2   21.85             21.85\n",
       "3    Haze              Haze"
      ]
     },
     "execution_count": 99,
     "metadata": {},
     "output_type": "execute_result"
    }
   ],
   "source": [
    "import requests as rq\n",
    "\n",
    "api_key = '91198bf0d4881d6cea0f4d2178773642'\n",
    "\n",
    "dic = {}\n",
    "\n",
    "import pandas as pd\n",
    "while True:\n",
    "    user_input = input(\"Enter city name: \")\n",
    "\n",
    "    weather_data = rq.get(f\"https://api.openweathermap.org/data/2.5/weather?q={user_input}&units=imperial&APPID={api_key}\")\n",
    "    forecast_data = rq.get(f\"https://api.openweathermap.org/data/2.5/forecast?q={user_input}&units=imperial&cnt=5&APPID={api_key}\")\n",
    "\n",
    "    try:\n",
    "        temp = weather_data.json()['main']['temp']\n",
    "        hum = weather_data.json()['main']['humidity']\n",
    "        ws = weather_data.json()['wind']['speed']\n",
    "        weather = weather_data.json()['weather'][0]['main'] \n",
    "                \n",
    "        \n",
    "        print(f'''\n",
    "        Temperature: {temp}\n",
    "        Humidity: {hum}\n",
    "        WindSpeed: {ws}\n",
    "        Weather Condition: {weather}\n",
    "        ''')\n",
    "        \n",
    "        while True:\n",
    "            dic[user_input.title()] = [temp, hum, ws, weather]\n",
    "            \n",
    "            a = input('Do you want to know about more cities, Write Yes or No! ')\n",
    "            \n",
    "            if (a.title() == \"Yes\") or (a.title() == 'No'):\n",
    "                \n",
    "                if a.title() == \"Yes\":\n",
    "                    break\n",
    "                else:\n",
    "                    break\n",
    "                    \n",
    "            else:\n",
    "                print('Please Write Yes or No only')\n",
    "                continue\n",
    "                \n",
    "        if a.title() == 'No':\n",
    "            break\n",
    "            \n",
    "    except KeyError:\n",
    "        print('Please Enter valid city name! ')\n",
    "        continue\n",
    "        \n",
    "dic1 = {}\n",
    "\n",
    "while True:\n",
    "    b = input('Do you want to know the forcasting condtion of the cities? ')\n",
    "    \n",
    "    if (b.title() =='Yes') or (b.title() == 'No'):\n",
    "        if b.title() == 'Yes':\n",
    "            lst= list(dic.keys())\n",
    "            print(lst)\n",
    "            c = input(\"Which city's information you want to know from the list? \")\n",
    "            forecast_data = rq.get(f\"https://api.openweathermap.org/data/2.5/forecast?q={c}&units=imperial&cnt=5&APPID={api_key}\")\n",
    "\n",
    "            if c.title() in lst:\n",
    "                temp_for = weather_data.json()['main']['temp']\n",
    "                hum_for = weather_data.json()['main']['humidity']\n",
    "                ws_for = weather_data.json()['wind']['speed']\n",
    "                weather_for = weather_data.json()['weather'][0]['main'] \n",
    "                \n",
    "                dic1[c.title() + ' '+ 'Forcasted'] = [temp_for, hum_for, ws_for, weather_for]\n",
    "                print(f'''\n",
    "                        Temperature: {temp_for}\n",
    "                        Humidity: {hum_for}\n",
    "                        WindSpeed: {ws_for}\n",
    "                        Weather Condition: {weather_for}\n",
    "                        \n",
    "                    ''')\n",
    "                while True:\n",
    "                    d = input(\"Do you want to know further cities forcasted conditions? \")\n",
    "                    if (d.title() == 'Yes') or (d.title() == 'No'):\n",
    "                        if d.title() == 'Yes':\n",
    "                            break\n",
    "                        else:\n",
    "                            break\n",
    "                    else:\n",
    "                        print('Please write Yes or No only: ')\n",
    "                        continue\n",
    "                if d.title() == 'No':\n",
    "                    break\n",
    "                \n",
    "            else:\n",
    "                print('Please write valid city name: ')\n",
    "                continue\n",
    "                \n",
    "        else:\n",
    "            break\n",
    "                \n",
    "    else:\n",
    "        print('Please write only Yes or No! ')\n",
    "        continue\n",
    "\n",
    "import pandas as pd\n",
    "df1 = pd.DataFrame(dic)\n",
    "df2 = pd.DataFrame(dic1)\n",
    "df = pd.concat([df1, df2], axis =1)\n",
    "df"
   ]
  },
  {
   "cell_type": "code",
   "execution_count": 103,
   "id": "37060313",
   "metadata": {},
   "outputs": [
    {
     "ename": "TypeError",
     "evalue": "'RangeIndex' object is not callable",
     "output_type": "error",
     "traceback": [
      "\u001b[1;31m---------------------------------------------------------------------------\u001b[0m",
      "\u001b[1;31mTypeError\u001b[0m                                 Traceback (most recent call last)",
      "\u001b[1;32m~\\AppData\\Local\\Temp\\ipykernel_17660\\2812078750.py\u001b[0m in \u001b[0;36m<module>\u001b[1;34m\u001b[0m\n\u001b[1;32m----> 1\u001b[1;33m \u001b[0mdf\u001b[0m\u001b[1;33m.\u001b[0m\u001b[0mindex\u001b[0m\u001b[1;33m(\u001b[0m\u001b[1;34m'Temperature'\u001b[0m\u001b[1;33m,\u001b[0m\u001b[1;34m'aa'\u001b[0m\u001b[1;33m,\u001b[0m \u001b[1;34m'aaaa'\u001b[0m\u001b[1;33m,\u001b[0m \u001b[1;34m'aaaaaa'\u001b[0m\u001b[1;33m)\u001b[0m\u001b[1;33m\u001b[0m\u001b[1;33m\u001b[0m\u001b[0m\n\u001b[0m",
      "\u001b[1;31mTypeError\u001b[0m: 'RangeIndex' object is not callable"
     ]
    }
   ],
   "source": [
    "df."
   ]
  },
  {
   "cell_type": "code",
   "execution_count": 94,
   "id": "f5fa70fa",
   "metadata": {},
   "outputs": [
    {
     "data": {
      "text/html": [
       "<div>\n",
       "<style scoped>\n",
       "    .dataframe tbody tr th:only-of-type {\n",
       "        vertical-align: middle;\n",
       "    }\n",
       "\n",
       "    .dataframe tbody tr th {\n",
       "        vertical-align: top;\n",
       "    }\n",
       "\n",
       "    .dataframe thead th {\n",
       "        text-align: right;\n",
       "    }\n",
       "</style>\n",
       "<table border=\"1\" class=\"dataframe\">\n",
       "  <thead>\n",
       "    <tr style=\"text-align: right;\">\n",
       "      <th></th>\n",
       "      <th>Karachi Forcasted</th>\n",
       "    </tr>\n",
       "  </thead>\n",
       "  <tbody>\n",
       "    <tr>\n",
       "      <th>0</th>\n",
       "      <td>91.22</td>\n",
       "    </tr>\n",
       "    <tr>\n",
       "      <th>1</th>\n",
       "      <td>62</td>\n",
       "    </tr>\n",
       "    <tr>\n",
       "      <th>2</th>\n",
       "      <td>21.85</td>\n",
       "    </tr>\n",
       "    <tr>\n",
       "      <th>3</th>\n",
       "      <td>Haze</td>\n",
       "    </tr>\n",
       "  </tbody>\n",
       "</table>\n",
       "</div>"
      ],
      "text/plain": [
       "  Karachi Forcasted\n",
       "0             91.22\n",
       "1                62\n",
       "2             21.85\n",
       "3              Haze"
      ]
     },
     "execution_count": 94,
     "metadata": {},
     "output_type": "execute_result"
    }
   ],
   "source": [
    "df1"
   ]
  },
  {
   "cell_type": "code",
   "execution_count": null,
   "id": "e10c5b55",
   "metadata": {},
   "outputs": [],
   "source": []
  }
 ],
 "metadata": {
  "kernelspec": {
   "display_name": "Python 3 (ipykernel)",
   "language": "python",
   "name": "python3"
  },
  "language_info": {
   "codemirror_mode": {
    "name": "ipython",
    "version": 3
   },
   "file_extension": ".py",
   "mimetype": "text/x-python",
   "name": "python",
   "nbconvert_exporter": "python",
   "pygments_lexer": "ipython3",
   "version": "3.9.13"
  }
 },
 "nbformat": 4,
 "nbformat_minor": 5
}
